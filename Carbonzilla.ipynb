{
 "cells": [
  {
   "cell_type": "markdown",
   "id": "OWCY5NhDbW3D",
   "metadata": {
    "id": "OWCY5NhDbW3D"
   },
   "source": [
    "# Import Necessary Libraries"
   ]
  },
  {
   "cell_type": "code",
   "execution_count": 1,
   "id": "2f34f99d",
   "metadata": {
    "id": "2f34f99d"
   },
   "outputs": [],
   "source": [
    "import pandas as pd\n",
    "import numpy as np\n",
    "from pandas import read_csv\n",
    "from pandas import DataFrame\n",
    "from pandas import concat\n",
    "from numpy import asarray\n",
    "import matplotlib.pyplot as plt\n",
    "\n",
    "from prophet import Prophet\n",
    "\n",
    "from sklearn.model_selection import train_test_split\n",
    "from sklearn.preprocessing import MinMaxScaler\n",
    "from tensorflow.keras.models import Sequential\n",
    "from tensorflow.keras.layers import LSTM, Dense,Dropout\n",
    "import torch\n",
    "import torch.nn as nn\n",
    "import torch.optim as optim\n",
    "import torch.utils.data as data\n",
    "\n",
    "from sklearn.metrics import mean_squared_error, mean_absolute_error, r2_score\n",
    "from math import sqrt\n",
    "from xgboost import XGBRegressor\n",
    "from sklearn.metrics import mean_absolute_percentage_error"
   ]
  },
  {
   "cell_type": "markdown",
   "id": "tblmErmybgdT",
   "metadata": {
    "id": "tblmErmybgdT"
   },
   "source": [
    "# Import Dataset"
   ]
  },
  {
   "cell_type": "code",
   "execution_count": 2,
   "id": "5f0685e4",
   "metadata": {
    "id": "5f0685e4",
    "scrolled": true
   },
   "outputs": [],
   "source": [
    "df = pd.read_csv(\"CO2 emissions.csv\")"
   ]
  },
  {
   "cell_type": "code",
   "execution_count": 3,
   "id": "ebf486b8",
   "metadata": {
    "id": "ebf486b8",
    "outputId": "cf491a3b-f9af-4c1e-de54-a27b4150e897"
   },
   "outputs": [
    {
     "data": {
      "text/html": [
       "<div>\n",
       "<style scoped>\n",
       "    .dataframe tbody tr th:only-of-type {\n",
       "        vertical-align: middle;\n",
       "    }\n",
       "\n",
       "    .dataframe tbody tr th {\n",
       "        vertical-align: top;\n",
       "    }\n",
       "\n",
       "    .dataframe thead th {\n",
       "        text-align: right;\n",
       "    }\n",
       "</style>\n",
       "<table border=\"1\" class=\"dataframe\">\n",
       "  <thead>\n",
       "    <tr style=\"text-align: right;\">\n",
       "      <th></th>\n",
       "      <th>Year</th>\n",
       "      <th>Metric Tons Per Capita</th>\n",
       "    </tr>\n",
       "  </thead>\n",
       "  <tbody>\n",
       "    <tr>\n",
       "      <th>0</th>\n",
       "      <td>31-12-1990</td>\n",
       "      <td>3.8963</td>\n",
       "    </tr>\n",
       "    <tr>\n",
       "      <th>1</th>\n",
       "      <td>31-12-1991</td>\n",
       "      <td>3.8581</td>\n",
       "    </tr>\n",
       "    <tr>\n",
       "      <th>2</th>\n",
       "      <td>31-12-1992</td>\n",
       "      <td>3.8018</td>\n",
       "    </tr>\n",
       "    <tr>\n",
       "      <th>3</th>\n",
       "      <td>31-12-1993</td>\n",
       "      <td>3.7679</td>\n",
       "    </tr>\n",
       "    <tr>\n",
       "      <th>4</th>\n",
       "      <td>31-12-1994</td>\n",
       "      <td>3.7314</td>\n",
       "    </tr>\n",
       "  </tbody>\n",
       "</table>\n",
       "</div>"
      ],
      "text/plain": [
       "         Year   Metric Tons Per Capita\n",
       "0  31-12-1990                   3.8963\n",
       "1  31-12-1991                   3.8581\n",
       "2  31-12-1992                   3.8018\n",
       "3  31-12-1993                   3.7679\n",
       "4  31-12-1994                   3.7314"
      ]
     },
     "execution_count": 3,
     "metadata": {},
     "output_type": "execute_result"
    }
   ],
   "source": [
    "df.head()"
   ]
  },
  {
   "cell_type": "code",
   "execution_count": 4,
   "id": "1e05d0be",
   "metadata": {
    "id": "1e05d0be"
   },
   "outputs": [],
   "source": [
    "df['Year'] = pd.to_datetime(df['Year'], format='%d-%m-%Y')\n",
    "df['Year'] = df['Year'].dt.year"
   ]
  },
  {
   "cell_type": "code",
   "execution_count": null,
   "id": "55fee5a7",
   "metadata": {
    "id": "55fee5a7",
    "outputId": "9a7d85c4-eff5-4af8-c5ad-f21565177ef1"
   },
   "outputs": [
    {
     "data": {
      "text/html": [
       "<div>\n",
       "<style scoped>\n",
       "    .dataframe tbody tr th:only-of-type {\n",
       "        vertical-align: middle;\n",
       "    }\n",
       "\n",
       "    .dataframe tbody tr th {\n",
       "        vertical-align: top;\n",
       "    }\n",
       "\n",
       "    .dataframe thead th {\n",
       "        text-align: right;\n",
       "    }\n",
       "</style>\n",
       "<table border=\"1\" class=\"dataframe\">\n",
       "  <thead>\n",
       "    <tr style=\"text-align: right;\">\n",
       "      <th></th>\n",
       "      <th>Year</th>\n",
       "      <th>Metric Tons Per Capita</th>\n",
       "    </tr>\n",
       "  </thead>\n",
       "  <tbody>\n",
       "    <tr>\n",
       "      <th>25</th>\n",
       "      <td>2015</td>\n",
       "      <td>4.4559</td>\n",
       "    </tr>\n",
       "    <tr>\n",
       "      <th>26</th>\n",
       "      <td>2016</td>\n",
       "      <td>4.4072</td>\n",
       "    </tr>\n",
       "    <tr>\n",
       "      <th>27</th>\n",
       "      <td>2017</td>\n",
       "      <td>4.4225</td>\n",
       "    </tr>\n",
       "    <tr>\n",
       "      <th>28</th>\n",
       "      <td>2018</td>\n",
       "      <td>4.4754</td>\n",
       "    </tr>\n",
       "    <tr>\n",
       "      <th>29</th>\n",
       "      <td>2019</td>\n",
       "      <td>4.4357</td>\n",
       "    </tr>\n",
       "  </tbody>\n",
       "</table>\n",
       "</div>"
      ],
      "text/plain": [
       "    Year   Metric Tons Per Capita\n",
       "25  2015                   4.4559\n",
       "26  2016                   4.4072\n",
       "27  2017                   4.4225\n",
       "28  2018                   4.4754\n",
       "29  2019                   4.4357"
      ]
     },
     "execution_count": 37,
     "metadata": {},
     "output_type": "execute_result"
    }
   ],
   "source": [
    "df.tail()"
   ]
  },
  {
   "cell_type": "code",
   "execution_count": null,
   "id": "2101dfc2",
   "metadata": {
    "id": "2101dfc2",
    "outputId": "05af7f9c-3360-4971-8fce-8de22d7847bb"
   },
   "outputs": [
    {
     "data": {
      "text/html": [
       "<div>\n",
       "<style scoped>\n",
       "    .dataframe tbody tr th:only-of-type {\n",
       "        vertical-align: middle;\n",
       "    }\n",
       "\n",
       "    .dataframe tbody tr th {\n",
       "        vertical-align: top;\n",
       "    }\n",
       "\n",
       "    .dataframe thead th {\n",
       "        text-align: right;\n",
       "    }\n",
       "</style>\n",
       "<table border=\"1\" class=\"dataframe\">\n",
       "  <thead>\n",
       "    <tr style=\"text-align: right;\">\n",
       "      <th></th>\n",
       "      <th>Year</th>\n",
       "      <th>Metric Tons Per Capita</th>\n",
       "    </tr>\n",
       "  </thead>\n",
       "  <tbody>\n",
       "    <tr>\n",
       "      <th>count</th>\n",
       "      <td>30.000000</td>\n",
       "      <td>30.000000</td>\n",
       "    </tr>\n",
       "    <tr>\n",
       "      <th>mean</th>\n",
       "      <td>2004.500000</td>\n",
       "      <td>4.126067</td>\n",
       "    </tr>\n",
       "    <tr>\n",
       "      <th>std</th>\n",
       "      <td>8.803408</td>\n",
       "      <td>0.314599</td>\n",
       "    </tr>\n",
       "    <tr>\n",
       "      <th>min</th>\n",
       "      <td>1990.000000</td>\n",
       "      <td>3.731400</td>\n",
       "    </tr>\n",
       "    <tr>\n",
       "      <th>25%</th>\n",
       "      <td>1997.250000</td>\n",
       "      <td>3.814975</td>\n",
       "    </tr>\n",
       "    <tr>\n",
       "      <th>50%</th>\n",
       "      <td>2004.500000</td>\n",
       "      <td>4.134500</td>\n",
       "    </tr>\n",
       "    <tr>\n",
       "      <th>75%</th>\n",
       "      <td>2011.750000</td>\n",
       "      <td>4.432400</td>\n",
       "    </tr>\n",
       "    <tr>\n",
       "      <th>max</th>\n",
       "      <td>2019.000000</td>\n",
       "      <td>4.581300</td>\n",
       "    </tr>\n",
       "  </tbody>\n",
       "</table>\n",
       "</div>"
      ],
      "text/plain": [
       "              Year   Metric Tons Per Capita\n",
       "count    30.000000                30.000000\n",
       "mean   2004.500000                 4.126067\n",
       "std       8.803408                 0.314599\n",
       "min    1990.000000                 3.731400\n",
       "25%    1997.250000                 3.814975\n",
       "50%    2004.500000                 4.134500\n",
       "75%    2011.750000                 4.432400\n",
       "max    2019.000000                 4.581300"
      ]
     },
     "execution_count": 38,
     "metadata": {},
     "output_type": "execute_result"
    }
   ],
   "source": [
    "df.describe()"
   ]
  },
  {
   "cell_type": "code",
   "execution_count": null,
   "id": "01e36be0",
   "metadata": {
    "id": "01e36be0",
    "outputId": "3b798d88-dde1-4b81-dccd-fc6979ec8ea2",
    "scrolled": true
   },
   "outputs": [
    {
     "name": "stdout",
     "output_type": "stream",
     "text": [
      "<class 'pandas.core.frame.DataFrame'>\n",
      "RangeIndex: 30 entries, 0 to 29\n",
      "Data columns (total 2 columns):\n",
      " #   Column                   Non-Null Count  Dtype  \n",
      "---  ------                   --------------  -----  \n",
      " 0   Year                     30 non-null     int64  \n",
      " 1    Metric Tons Per Capita  30 non-null     float64\n",
      "dtypes: float64(1), int64(1)\n",
      "memory usage: 608.0 bytes\n"
     ]
    }
   ],
   "source": [
    "df.info()"
   ]
  },
  {
   "cell_type": "code",
   "execution_count": null,
   "id": "4397e958",
   "metadata": {
    "id": "4397e958",
    "outputId": "a8b2f4ca-1031-4f39-81d9-1d7bd6046396"
   },
   "outputs": [
    {
     "data": {
      "image/png": "[encoded data removed]",
      "text/plain": [
       "<Figure size 640x480 with 1 Axes>"
      ]
     },
     "metadata": {},
     "output_type": "display_data"
    }
   ],
   "source": [
    "timeseries = df[[\" Metric Tons Per Capita\"]].values.astype('float32')\n",
    "\n",
    "plt.plot(timeseries)\n",
    "plt.show()"
   ]
  },
  {
   "cell_type": "markdown",
   "id": "mtQ6SqVqbl10",
   "metadata": {
    "id": "mtQ6SqVqbl10"
   },
   "source": [
    "# LSTM"
   ]
  },
  {
   "cell_type": "code",
   "execution_count": null,
   "id": "54e60150",
   "metadata": {
    "id": "54e60150"
   },
   "outputs": [],
   "source": [
    "# train-test split for time series\n",
    "train_size = int(len(timeseries) * 0.69)\n",
    "test_size = len(timeseries) - train_size\n",
    "train, test = timeseries[:train_size], timeseries[train_size:]"
   ]
  },
  {
   "cell_type": "code",
   "execution_count": null,
   "id": "6f4ce5be",
   "metadata": {
    "id": "6f4ce5be"
   },
   "outputs": [],
   "source": [
    "def create_dataset(dataset, lookback):\n",
    "    X, y = [], []\n",
    "    for i in range(len(dataset)-lookback):\n",
    "        feature = dataset[i:i+lookback]\n",
    "        target = dataset[i+1:i+lookback+1]\n",
    "        X.append(feature)\n",
    "        y.append(target)\n",
    "    return torch.tensor(np.array(X)), torch.tensor(np.array(y))"
   ]
  },
  {
   "cell_type": "code",
   "execution_count": null,
   "id": "b2e21af6",
   "metadata": {
    "id": "b2e21af6",
    "outputId": "99af4880-8eaf-4d3c-f957-3d02545ef53e"
   },
   "outputs": [
    {
     "name": "stdout",
     "output_type": "stream",
     "text": [
      "torch.Size([19, 1, 1]) torch.Size([19, 1, 1])\n",
      "torch.Size([9, 1, 1]) torch.Size([9, 1, 1])\n"
     ]
    }
   ],
   "source": [
    "lookback = 1\n",
    "X_train, y_train = create_dataset(train, lookback=lookback)\n",
    "X_test, y_test = create_dataset(test, lookback=lookback)\n",
    "print(X_train.shape, y_train.shape)\n",
    "print(X_test.shape, y_test.shape)"
   ]
  },
  {
   "cell_type": "code",
   "execution_count": null,
   "id": "0d868182",
   "metadata": {
    "id": "0d868182"
   },
   "outputs": [],
   "source": [
    "class Emissions_Model(nn.Module):\n",
    "    def __init__(self):\n",
    "        super().__init__()\n",
    "        self.lstm = nn.LSTM(input_size=1, hidden_size=50, num_layers=1, batch_first=True)\n",
    "        self.linear = nn.Linear(50, 1)\n",
    "    def forward(self, x):\n",
    "        x, _ = self.lstm(x)\n",
    "        x = self.linear(x)\n",
    "        return x"
   ]
  },
  {
   "cell_type": "code",
   "execution_count": null,
   "id": "d5722aca",
   "metadata": {
    "id": "d5722aca",
    "outputId": "725b71dd-5786-4191-91bd-fbb9f479151f"
   },
   "outputs": [
    {
     "name": "stdout",
     "output_type": "stream",
     "text": [
      "Epoch 0: train RMSE 3.7599, test RMSE 4.2902\n",
      "Epoch 100: train RMSE 0.1160, test RMSE 0.2451\n",
      "Epoch 200: train RMSE 0.1149, test RMSE 0.2350\n",
      "Epoch 300: train RMSE 0.1130, test RMSE 0.2296\n",
      "Epoch 400: train RMSE 0.1106, test RMSE 0.2268\n",
      "Epoch 500: train RMSE 0.1078, test RMSE 0.2205\n",
      "Epoch 600: train RMSE 0.1047, test RMSE 0.2163\n",
      "Epoch 700: train RMSE 0.1005, test RMSE 0.1914\n",
      "Epoch 800: train RMSE 0.0969, test RMSE 0.1667\n",
      "Epoch 900: train RMSE 0.0915, test RMSE 0.1566\n",
      "Epoch 1000: train RMSE 0.0868, test RMSE 0.1518\n",
      "Epoch 1100: train RMSE 0.0813, test RMSE 0.1198\n",
      "Epoch 1200: train RMSE 0.0768, test RMSE 0.1079\n",
      "Epoch 1300: train RMSE 0.0727, test RMSE 0.0840\n",
      "Epoch 1400: train RMSE 0.0697, test RMSE 0.0696\n",
      "Epoch 1500: train RMSE 0.0677, test RMSE 0.0618\n",
      "Epoch 1600: train RMSE 0.0678, test RMSE 0.0595\n",
      "Epoch 1700: train RMSE 0.0660, test RMSE 0.0524\n",
      "Epoch 1800: train RMSE 0.0668, test RMSE 0.0524\n",
      "Epoch 1900: train RMSE 0.0662, test RMSE 0.0537\n",
      "Epoch 2000: train RMSE 0.0649, test RMSE 0.0519\n",
      "Epoch 2100: train RMSE 0.0650, test RMSE 0.0517\n",
      "Epoch 2200: train RMSE 0.0674, test RMSE 0.0613\n",
      "Epoch 2300: train RMSE 0.0657, test RMSE 0.0510\n",
      "Epoch 2400: train RMSE 0.0659, test RMSE 0.0581\n"
     ]
    }
   ],
   "source": [
    "model = Emissions_Model()\n",
    "optimizer = optim.Adam(model.parameters())\n",
    "loss_fn = nn.MSELoss()\n",
    "loader = data.DataLoader(data.TensorDataset(X_train, y_train), shuffle=True, batch_size=8)\n",
    "\n",
    "n_epochs = 2500\n",
    "for epoch in range(n_epochs):\n",
    "    model.train()\n",
    "    for X_batch, y_batch in loader:\n",
    "        y_pred = model(X_batch)\n",
    "        loss = loss_fn(y_pred, y_batch)\n",
    "        optimizer.zero_grad()\n",
    "        loss.backward()\n",
    "        optimizer.step()\n",
    "    # Validation\n",
    "    if epoch % 100 != 0:\n",
    "        continue\n",
    "    model.eval()\n",
    "    with torch.no_grad():\n",
    "        y_pred = model(X_train)\n",
    "        train_rmse = np.sqrt(loss_fn(y_pred, y_train))\n",
    "        y_pred = model(X_test)\n",
    "        test_rmse = np.sqrt(loss_fn(y_pred, y_test))\n",
    "    print(\"Epoch %d: train RMSE %.4f, test RMSE %.4f\" % (epoch, train_rmse, test_rmse))"
   ]
  },
  {
   "cell_type": "code",
   "execution_count": null,
   "id": "5bcb5a09",
   "metadata": {
    "id": "5bcb5a09",
    "outputId": "64e83307-ab1d-4d48-b50e-36246249114c"
   },
   "outputs": [
    {
     "data": {
      "image/png": "[encoded data removed]",
      "text/plain": [
       "<Figure size 640x480 with 1 Axes>"
      ]
     },
     "metadata": {},
     "output_type": "display_data"
    }
   ],
   "source": [
    "with torch.no_grad():\n",
    "    # shift train predictions for plotting\n",
    "    train_plot = np.ones_like(timeseries) * np.nan\n",
    "    y_pred = model(X_train)\n",
    "    y_pred = y_pred[:, -1, :]\n",
    "    train_plot[lookback:train_size] = model(X_train)[:, -1, :]\n",
    "    # shift test predictions for plotting\n",
    "    test_plot = np.ones_like(timeseries) * np.nan\n",
    "    test_plot[train_size+lookback:len(timeseries)] = model(X_test)[:, -1, :]\n",
    "# plot\n",
    "plt.plot(timeseries, c='b',label=\"Actual Data\")\n",
    "plt.plot(train_plot, c='r',label = \"Train Predictions\")\n",
    "plt.plot(test_plot, c='g',label = \"Test Predictions\")\n",
    "plt.legend()\n",
    "plt.show()"
   ]
  },
  {
   "cell_type": "code",
   "execution_count": null,
   "id": "fedf1171",
   "metadata": {
    "id": "fedf1171",
    "outputId": "e0c1dbfc-be3d-415f-f084-12d3bd46e2c2"
   },
   "outputs": [
    {
     "data": {
      "text/plain": [
       "array([[      nan],\n",
       "       [3.9401252],\n",
       "       [3.9010892],\n",
       "       [3.8433497],\n",
       "       [3.808469 ],\n",
       "       [3.7708209],\n",
       "       [3.8219576],\n",
       "       [3.8461246],\n",
       "       [3.856601 ],\n",
       "       [3.8226783],\n",
       "       [3.7877483],\n",
       "       [3.8577302],\n",
       "       [3.8720958],\n",
       "       [3.8731217],\n",
       "       [4.0023136],\n",
       "       [4.1313367],\n",
       "       [4.229835 ],\n",
       "       [4.310909 ],\n",
       "       [4.4149804],\n",
       "       [4.3949876],\n",
       "       [      nan],\n",
       "       [      nan],\n",
       "       [      nan],\n",
       "       [      nan],\n",
       "       [      nan],\n",
       "       [      nan],\n",
       "       [      nan],\n",
       "       [      nan],\n",
       "       [      nan],\n",
       "       [      nan]], dtype=float32)"
      ]
     },
     "execution_count": 78,
     "metadata": {},
     "output_type": "execute_result"
    }
   ],
   "source": [
    "train_plot"
   ]
  },
  {
   "cell_type": "code",
   "execution_count": null,
   "id": "8d1a37c1",
   "metadata": {
    "id": "8d1a37c1",
    "outputId": "c2dabf49-6e0a-402b-b5f4-5ccec49d6e5e"
   },
   "outputs": [
    {
     "data": {
      "text/plain": [
       "array([[      nan],\n",
       "       [      nan],\n",
       "       [      nan],\n",
       "       [      nan],\n",
       "       [      nan],\n",
       "       [      nan],\n",
       "       [      nan],\n",
       "       [      nan],\n",
       "       [      nan],\n",
       "       [      nan],\n",
       "       [      nan],\n",
       "       [      nan],\n",
       "       [      nan],\n",
       "       [      nan],\n",
       "       [      nan],\n",
       "       [      nan],\n",
       "       [      nan],\n",
       "       [      nan],\n",
       "       [      nan],\n",
       "       [      nan],\n",
       "       [      nan],\n",
       "       [4.494676 ],\n",
       "       [4.576839 ],\n",
       "       [4.5825663],\n",
       "       [4.6164556],\n",
       "       [4.574166 ],\n",
       "       [4.496413 ],\n",
       "       [4.449299 ],\n",
       "       [4.46413  ],\n",
       "       [4.515201 ]], dtype=float32)"
      ]
     },
     "execution_count": 79,
     "metadata": {},
     "output_type": "execute_result"
    }
   ],
   "source": [
    "test_plot"
   ]
  },
  {
   "cell_type": "code",
   "execution_count": null,
   "id": "fe3589b3",
   "metadata": {
    "id": "fe3589b3",
    "outputId": "1f91162a-714d-44fd-ffdd-b261727951eb"
   },
   "outputs": [
    {
     "data": {
      "text/html": [
       "<div>\n",
       "<style scoped>\n",
       "    .dataframe tbody tr th:only-of-type {\n",
       "        vertical-align: middle;\n",
       "    }\n",
       "\n",
       "    .dataframe tbody tr th {\n",
       "        vertical-align: top;\n",
       "    }\n",
       "\n",
       "    .dataframe thead th {\n",
       "        text-align: right;\n",
       "    }\n",
       "</style>\n",
       "<table border=\"1\" class=\"dataframe\">\n",
       "  <thead>\n",
       "    <tr style=\"text-align: right;\">\n",
       "      <th></th>\n",
       "      <th>Predictions</th>\n",
       "    </tr>\n",
       "  </thead>\n",
       "  <tbody>\n",
       "    <tr>\n",
       "      <th>0</th>\n",
       "      <td>3.940125</td>\n",
       "    </tr>\n",
       "    <tr>\n",
       "      <th>1</th>\n",
       "      <td>3.901089</td>\n",
       "    </tr>\n",
       "    <tr>\n",
       "      <th>2</th>\n",
       "      <td>3.843350</td>\n",
       "    </tr>\n",
       "    <tr>\n",
       "      <th>3</th>\n",
       "      <td>3.808469</td>\n",
       "    </tr>\n",
       "    <tr>\n",
       "      <th>4</th>\n",
       "      <td>3.770821</td>\n",
       "    </tr>\n",
       "  </tbody>\n",
       "</table>\n",
       "</div>"
      ],
      "text/plain": [
       "   Predictions\n",
       "0     3.940125\n",
       "1     3.901089\n",
       "2     3.843350\n",
       "3     3.808469\n",
       "4     3.770821"
      ]
     },
     "execution_count": 100,
     "metadata": {},
     "output_type": "execute_result"
    }
   ],
   "source": [
    "train_plot = train_plot.flatten()\n",
    "test_plot = test_plot.flatten()\n",
    "\n",
    "# Ignore null values and merge the arrays\n",
    "predictions_values = np.concatenate((train_plot[~np.isnan(train_plot)], test_plot[~np.isnan(test_plot)]))\n",
    "\n",
    "# Create a DataFrame\n",
    "predictions = pd.DataFrame({'Predictions': predictions_values})\n",
    "\n",
    "predictions.head(5)"
   ]
  },
  {
   "cell_type": "code",
   "execution_count": null,
   "id": "56390acc",
   "metadata": {
    "id": "56390acc",
    "outputId": "fb68d803-18f1-4342-c26b-34d661856123"
   },
   "outputs": [
    {
     "data": {
      "text/plain": [
       "array([[3.8963],\n",
       "       [3.8581],\n",
       "       [3.8018],\n",
       "       [3.7679],\n",
       "       [3.7314],\n",
       "       [3.781 ],\n",
       "       [3.8045],\n",
       "       [3.8147],\n",
       "       [3.7817],\n",
       "       [3.7478],\n",
       "       [3.8158],\n",
       "       [3.8298],\n",
       "       [3.8308],\n",
       "       [3.9574],\n",
       "       [4.0852],\n",
       "       [4.1838],\n",
       "       [4.2657],\n",
       "       [4.3719],\n",
       "       [4.3514],\n",
       "       [4.2506]], dtype=float32)"
      ]
     },
     "execution_count": 101,
     "metadata": {},
     "output_type": "execute_result"
    }
   ],
   "source": [
    "train"
   ]
  },
  {
   "cell_type": "code",
   "execution_count": null,
   "id": "53c43f38",
   "metadata": {
    "id": "53c43f38",
    "outputId": "8b87556f-82ef-474d-d528-38bb6570ffb2"
   },
   "outputs": [
    {
     "data": {
      "text/plain": [
       "array([[4.4541],\n",
       "       [4.5397],\n",
       "       [4.5457],\n",
       "       [4.5813],\n",
       "       [4.5369],\n",
       "       [4.4559],\n",
       "       [4.4072],\n",
       "       [4.4225],\n",
       "       [4.4754],\n",
       "       [4.4357]], dtype=float32)"
      ]
     },
     "execution_count": 102,
     "metadata": {},
     "output_type": "execute_result"
    }
   ],
   "source": [
    "test"
   ]
  },
  {
   "cell_type": "code",
   "execution_count": null,
   "id": "8efdb935",
   "metadata": {
    "id": "8efdb935"
   },
   "outputs": [],
   "source": [
    "train = train.flatten()\n",
    "test = test.flatten()\n",
    "\n",
    "actual_train_values = train[1:]\n",
    "actual_train = pd.DataFrame({'Actual': actual_train_values})\n",
    "\n",
    "actual_test_values = test[1:]\n",
    "actual_test = pd.DataFrame({'Actual': actual_test_values})\n",
    "\n",
    "actual = pd.concat([actual_train, actual_test], ignore_index=True)\n"
   ]
  },
  {
   "cell_type": "code",
   "execution_count": null,
   "id": "063eca32",
   "metadata": {
    "id": "063eca32",
    "outputId": "2384de76-0651-4da1-9f61-97f23c4c365f"
   },
   "outputs": [
    {
     "data": {
      "text/html": [
       "<div>\n",
       "<style scoped>\n",
       "    .dataframe tbody tr th:only-of-type {\n",
       "        vertical-align: middle;\n",
       "    }\n",
       "\n",
       "    .dataframe tbody tr th {\n",
       "        vertical-align: top;\n",
       "    }\n",
       "\n",
       "    .dataframe thead th {\n",
       "        text-align: right;\n",
       "    }\n",
       "</style>\n",
       "<table border=\"1\" class=\"dataframe\">\n",
       "  <thead>\n",
       "    <tr style=\"text-align: right;\">\n",
       "      <th></th>\n",
       "      <th>Actual</th>\n",
       "    </tr>\n",
       "  </thead>\n",
       "  <tbody>\n",
       "    <tr>\n",
       "      <th>0</th>\n",
       "      <td>3.8581</td>\n",
       "    </tr>\n",
       "    <tr>\n",
       "      <th>1</th>\n",
       "      <td>3.8018</td>\n",
       "    </tr>\n",
       "    <tr>\n",
       "      <th>2</th>\n",
       "      <td>3.7679</td>\n",
       "    </tr>\n",
       "    <tr>\n",
       "      <th>3</th>\n",
       "      <td>3.7314</td>\n",
       "    </tr>\n",
       "    <tr>\n",
       "      <th>4</th>\n",
       "      <td>3.7810</td>\n",
       "    </tr>\n",
       "  </tbody>\n",
       "</table>\n",
       "</div>"
      ],
      "text/plain": [
       "   Actual\n",
       "0  3.8581\n",
       "1  3.8018\n",
       "2  3.7679\n",
       "3  3.7314\n",
       "4  3.7810"
      ]
     },
     "execution_count": 108,
     "metadata": {},
     "output_type": "execute_result"
    }
   ],
   "source": [
    "actual.head()"
   ]
  },
  {
   "cell_type": "code",
   "execution_count": null,
   "id": "dfce0f37",
   "metadata": {
    "id": "dfce0f37"
   },
   "outputs": [],
   "source": [
    "result = pd.concat([actual, predictions], axis=1)"
   ]
  },
  {
   "cell_type": "code",
   "execution_count": null,
   "id": "0e55b91d",
   "metadata": {
    "id": "0e55b91d",
    "outputId": "4eff8832-a380-46f6-f1c3-202fb6bb155d"
   },
   "outputs": [
    {
     "data": {
      "text/html": [
       "<div>\n",
       "<style scoped>\n",
       "    .dataframe tbody tr th:only-of-type {\n",
       "        vertical-align: middle;\n",
       "    }\n",
       "\n",
       "    .dataframe tbody tr th {\n",
       "        vertical-align: top;\n",
       "    }\n",
       "\n",
       "    .dataframe thead th {\n",
       "        text-align: right;\n",
       "    }\n",
       "</style>\n",
       "<table border=\"1\" class=\"dataframe\">\n",
       "  <thead>\n",
       "    <tr style=\"text-align: right;\">\n",
       "      <th></th>\n",
       "      <th>Actual</th>\n",
       "      <th>Predictions</th>\n",
       "    </tr>\n",
       "  </thead>\n",
       "  <tbody>\n",
       "    <tr>\n",
       "      <th>0</th>\n",
       "      <td>3.8581</td>\n",
       "      <td>3.940125</td>\n",
       "    </tr>\n",
       "    <tr>\n",
       "      <th>1</th>\n",
       "      <td>3.8018</td>\n",
       "      <td>3.901089</td>\n",
       "    </tr>\n",
       "    <tr>\n",
       "      <th>2</th>\n",
       "      <td>3.7679</td>\n",
       "      <td>3.843350</td>\n",
       "    </tr>\n",
       "    <tr>\n",
       "      <th>3</th>\n",
       "      <td>3.7314</td>\n",
       "      <td>3.808469</td>\n",
       "    </tr>\n",
       "    <tr>\n",
       "      <th>4</th>\n",
       "      <td>3.7810</td>\n",
       "      <td>3.770821</td>\n",
       "    </tr>\n",
       "  </tbody>\n",
       "</table>\n",
       "</div>"
      ],
      "text/plain": [
       "   Actual  Predictions\n",
       "0  3.8581     3.940125\n",
       "1  3.8018     3.901089\n",
       "2  3.7679     3.843350\n",
       "3  3.7314     3.808469\n",
       "4  3.7810     3.770821"
      ]
     },
     "execution_count": 123,
     "metadata": {},
     "output_type": "execute_result"
    }
   ],
   "source": [
    "result.head()"
   ]
  },
  {
   "cell_type": "code",
   "execution_count": null,
   "id": "61ca911a",
   "metadata": {
    "id": "61ca911a",
    "outputId": "c624f8a1-0997-4710-9944-5f5a475b9d9c"
   },
   "outputs": [
    {
     "name": "stdout",
     "output_type": "stream",
     "text": [
      "MSE: 0.004613025579601526\n",
      "RMSE: 0.06791925779630933\n",
      "MAE: 0.05880134552717209\n",
      "MAPE: 1.43%\n",
      "R2 Score: 0.95233\n"
     ]
    }
   ],
   "source": [
    "from sklearn.metrics import mean_squared_error, mean_absolute_error, r2_score\n",
    "from math import sqrt\n",
    "\n",
    "# Calculate MSE\n",
    "mse_lstm = mean_squared_error(result['Actual'], result['Predictions'])\n",
    "\n",
    "# Calculate RMSE\n",
    "rmse_lstm=sqrt(mean_squared_error(result['Actual'],result['Predictions']))\n",
    "\n",
    "# Calculate MAE\n",
    "mae_lstm = mean_absolute_error(result['Actual'], result['Predictions'])\n",
    "\n",
    "# Calculate MAPE\n",
    "def calculate_mape(y_true, y_pred):\n",
    "    return np.mean(np.abs((y_true - y_pred) / y_true)) * 100\n",
    "\n",
    "mape_lstm = calculate_mape(result['Actual'], result['Predictions'])\n",
    "\n",
    "# Calculate R2 score\n",
    "r2_lstm = r2_score(result['Actual'], result['Predictions'])\n",
    "\n",
    "print(f\"MSE: {mse}\")\n",
    "print(f\"RMSE: {rmse}\")\n",
    "print(f\"MAE: {mae}\")\n",
    "print(f\"MAPE: {mape:.2f}%\")\n",
    "print(f\"R2 Score: {r2:.5f}\")\n"
   ]
  },
  {
   "cell_type": "markdown",
   "id": "vgPMMLpwbq6s",
   "metadata": {
    "id": "vgPMMLpwbq6s"
   },
   "source": [
    "# XGBoost Regressor"
   ]
  },
  {
   "cell_type": "code",
   "execution_count": null,
   "id": "5c7fcce2",
   "metadata": {
    "id": "5c7fcce2"
   },
   "outputs": [],
   "source": [
    "# transform a time series dataset into a supervised learning dataset\n",
    "def series_to_supervised(data, n_in=1, n_out=1, dropnan=True):\n",
    "        n_vars = 1 if type(data) is list else data.shape[1]\n",
    "        df = DataFrame(data)\n",
    "        cols = list()\n",
    "        # input sequence (t-n, ... t-1)\n",
    "        for i in range(n_in, 0, -1):\n",
    "            cols.append(df.shift(i))\n",
    "        # forecast sequence (t, t+1, ... t+n)\n",
    "        for i in range(0, n_out):\n",
    "            cols.append(df.shift(-i))\n",
    "        # put it all together\n",
    "        agg = concat(cols, axis=1)\n",
    "        # drop rows with NaN values\n",
    "        if dropnan:\n",
    "            agg.dropna(inplace=True)\n",
    "        return agg.values"
   ]
  },
  {
   "cell_type": "code",
   "execution_count": null,
   "id": "030d3167",
   "metadata": {
    "id": "030d3167"
   },
   "outputs": [],
   "source": [
    "# split a univariate dataset into train/test sets\n",
    "def train_test_split(data, n_test):\n",
    "        return data[:-n_test, :], data[-n_test:, :]\n",
    "\n",
    "# fit an xgboost model and make a one step prediction\n",
    "def xgboost_forecast(train, testX):\n",
    "        # transform list into array\n",
    "        train = asarray(train)\n",
    "        # split into input and output columns\n",
    "        trainX, trainy = train[:, :-1], train[:, -1]\n",
    "        # fit model\n",
    "        model = XGBRegressor(objective='reg:squarederror', n_estimators=1000)\n",
    "        model.fit(trainX, trainy)\n",
    "        # make a one-step prediction\n",
    "        yhat = model.predict(asarray([testX]))\n",
    "        return yhat[0]\n"
   ]
  },
  {
   "cell_type": "code",
   "execution_count": null,
   "id": "b98b9d76",
   "metadata": {
    "id": "b98b9d76"
   },
   "outputs": [],
   "source": [
    "# walk-forward validation for univariate data\n",
    "def walk_forward_validation(data, n_test):\n",
    "        predictions = list()\n",
    "        # split dataset\n",
    "        train, test = train_test_split(data, n_test)\n",
    "        # seed history with training dataset\n",
    "        history = [x for x in train]\n",
    "        # step over each time-step in the test set\n",
    "        for i in range(len(test)):\n",
    "            # split test row into input and output columns\n",
    "            testX, testy = test[i, :-1], test[i, -1]\n",
    "            # fit model on history and make a prediction\n",
    "            yhat = xgboost_forecast(history, testX)\n",
    "            # store forecast in list of predictions\n",
    "            predictions.append(yhat)\n",
    "            # add actual observation to history for the next loop\n",
    "            history.append(test[i])\n",
    "            # summarize progress\n",
    "            print('>expected=%.5f, predicted=%.5f' % (testy, yhat))\n",
    "        # estimate prediction error\n",
    "        error = mean_absolute_error(test[:, -1], predictions)\n",
    "        return error, test[:, -1], predictions"
   ]
  },
  {
   "cell_type": "code",
   "execution_count": null,
   "id": "d415b4f1",
   "metadata": {
    "id": "d415b4f1",
    "outputId": "849c2125-87ea-45ac-c1d2-81cd5f9cb18e"
   },
   "outputs": [
    {
     "name": "stdout",
     "output_type": "stream",
     "text": [
      ">expected=4.25060, predicted=4.35174\n",
      ">expected=4.45410, predicted=4.25101\n",
      ">expected=4.53970, predicted=4.45163\n",
      ">expected=4.54570, predicted=4.45634\n",
      ">expected=4.58130, predicted=4.54290\n",
      ">expected=4.53690, predicted=4.58001\n",
      ">expected=4.45590, predicted=4.54533\n",
      ">expected=4.40720, predicted=4.51068\n",
      ">expected=4.42250, predicted=4.40755\n",
      ">expected=4.47540, predicted=4.42200\n",
      ">expected=4.43570, predicted=4.46838\n",
      "MAE: 0.078\n"
     ]
    },
    {
     "data": {
      "image/png": "[encoded data removed]",
      "text/plain": [
       "<Figure size 640x480 with 1 Axes>"
      ]
     },
     "metadata": {},
     "output_type": "display_data"
    }
   ],
   "source": [
    "# load the dataset\n",
    "series = read_csv('CO2 Emissions.csv', header=0, index_col=0)\n",
    "values = series.values\n",
    "# transform the time series data into supervised learning\n",
    "data = series_to_supervised(values, n_in=6)\n",
    "# evaluate\n",
    "mae, y, yhat = walk_forward_validation(data, 11)\n",
    "print('MAE: %.3f' % mae)\n",
    "# plot expected vs preducted\n",
    "plt.plot(y, label='Expected')\n",
    "plt.plot(yhat, label='Predicted')\n",
    "plt.legend()\n",
    "plt.show()"
   ]
  },
  {
   "cell_type": "code",
   "execution_count": null,
   "id": "ffa9210f",
   "metadata": {
    "id": "ffa9210f",
    "outputId": "310523cd-4cd1-4e7d-b212-4f12ebb4fbf7"
   },
   "outputs": [
    {
     "name": "stdout",
     "output_type": "stream",
     "text": [
      "Mean Squared Error (MSE): 0.0085\n",
      "Root Mean Squared Error (RMSE): 0.2413\n",
      "Mean Absolute Percentage Error (MAPE): 0.0175\n",
      "R-squared (R2) Score: -0.1245\n"
     ]
    }
   ],
   "source": [
    "mse_xg = mean_squared_error(y, yhat)\n",
    "\n",
    "rmse_xg = np.sqrt(mse)\n",
    "\n",
    "r2_xg = r2_score(y, yhat)\n",
    "\n",
    "mape_xg = mean_absolute_percentage_error(y, yhat)\n",
    "\n",
    "print(f'Mean Squared Error (MSE): {mse_xg:.4f}')\n",
    "print(f'Root Mean Squared Error (RMSE): {rmse_xg:.4f}')\n",
    "print(f'Mean Absolute Percentage Error (MAPE): {mape_xg:.4f}')\n",
    "print(f'R-squared (R2) Score: {r2_xg:.4f}')"
   ]
  },
  {
   "cell_type": "markdown",
   "id": "gFnDpRlfbzFe",
   "metadata": {
    "id": "gFnDpRlfbzFe"
   },
   "source": [
    "# FB Prophet"
   ]
  },
  {
   "cell_type": "code",
   "execution_count": 5,
   "id": "abb17e1d",
   "metadata": {
    "id": "abb17e1d",
    "outputId": "480f2cce-fbfd-4262-9773-4fa7cb68973d"
   },
   "outputs": [
    {
     "name": "stderr",
     "output_type": "stream",
     "text": [
      "C:\\Users\\Admin\\AppData\\Local\\Temp\\ipykernel_9836\\2874175866.py:1: UserWarning: Parsing dates in DD/MM/YYYY format when dayfirst=False (the default) was specified. This may lead to inconsistently parsed dates! Specify a format to ensure consistent parsing.\n",
      "  emission_df = pd.read_csv('CO2 emissions.csv' , index_col='Year', parse_dates=True)\n"
     ]
    }
   ],
   "source": [
    "emission_df = pd.read_csv('CO2 emissions.csv' , index_col='Year', parse_dates=True)"
   ]
  },
  {
   "cell_type": "code",
   "execution_count": null,
   "id": "20b83635",
   "metadata": {
    "id": "20b83635",
    "outputId": "9c8e2bb2-8bd2-4179-c90e-144aa774abc6"
   },
   "outputs": [
    {
     "data": {
      "text/html": [
       "<div>\n",
       "<style scoped>\n",
       "    .dataframe tbody tr th:only-of-type {\n",
       "        vertical-align: middle;\n",
       "    }\n",
       "\n",
       "    .dataframe tbody tr th {\n",
       "        vertical-align: top;\n",
       "    }\n",
       "\n",
       "    .dataframe thead th {\n",
       "        text-align: right;\n",
       "    }\n",
       "</style>\n",
       "<table border=\"1\" class=\"dataframe\">\n",
       "  <thead>\n",
       "    <tr style=\"text-align: right;\">\n",
       "      <th></th>\n",
       "      <th>Metric Tons Per Capita</th>\n",
       "    </tr>\n",
       "    <tr>\n",
       "      <th>Year</th>\n",
       "      <th></th>\n",
       "    </tr>\n",
       "  </thead>\n",
       "  <tbody>\n",
       "    <tr>\n",
       "      <th>1990-12-31</th>\n",
       "      <td>3.8963</td>\n",
       "    </tr>\n",
       "    <tr>\n",
       "      <th>1991-12-31</th>\n",
       "      <td>3.8581</td>\n",
       "    </tr>\n",
       "    <tr>\n",
       "      <th>1992-12-31</th>\n",
       "      <td>3.8018</td>\n",
       "    </tr>\n",
       "    <tr>\n",
       "      <th>1993-12-31</th>\n",
       "      <td>3.7679</td>\n",
       "    </tr>\n",
       "    <tr>\n",
       "      <th>1994-12-31</th>\n",
       "      <td>3.7314</td>\n",
       "    </tr>\n",
       "  </tbody>\n",
       "</table>\n",
       "</div>"
      ],
      "text/plain": [
       "             Metric Tons Per Capita\n",
       "Year                               \n",
       "1990-12-31                   3.8963\n",
       "1991-12-31                   3.8581\n",
       "1992-12-31                   3.8018\n",
       "1993-12-31                   3.7679\n",
       "1994-12-31                   3.7314"
      ]
     },
     "execution_count": 139,
     "metadata": {},
     "output_type": "execute_result"
    }
   ],
   "source": [
    "emission_df.head()"
   ]
  },
  {
   "cell_type": "code",
   "execution_count": 6,
   "id": "bff109fd",
   "metadata": {
    "id": "bff109fd",
    "outputId": "cd42a987-9b93-4b35-eb8e-de47f3880b88"
   },
   "outputs": [
    {
     "data": {
      "text/html": [
       "<div>\n",
       "<style scoped>\n",
       "    .dataframe tbody tr th:only-of-type {\n",
       "        vertical-align: middle;\n",
       "    }\n",
       "\n",
       "    .dataframe tbody tr th {\n",
       "        vertical-align: top;\n",
       "    }\n",
       "\n",
       "    .dataframe thead th {\n",
       "        text-align: right;\n",
       "    }\n",
       "</style>\n",
       "<table border=\"1\" class=\"dataframe\">\n",
       "  <thead>\n",
       "    <tr style=\"text-align: right;\">\n",
       "      <th></th>\n",
       "      <th>Year</th>\n",
       "      <th>Metric Tons Per Capita</th>\n",
       "    </tr>\n",
       "  </thead>\n",
       "  <tbody>\n",
       "    <tr>\n",
       "      <th>0</th>\n",
       "      <td>1990-12-31</td>\n",
       "      <td>3.8963</td>\n",
       "    </tr>\n",
       "    <tr>\n",
       "      <th>1</th>\n",
       "      <td>1991-12-31</td>\n",
       "      <td>3.8581</td>\n",
       "    </tr>\n",
       "    <tr>\n",
       "      <th>2</th>\n",
       "      <td>1992-12-31</td>\n",
       "      <td>3.8018</td>\n",
       "    </tr>\n",
       "    <tr>\n",
       "      <th>3</th>\n",
       "      <td>1993-12-31</td>\n",
       "      <td>3.7679</td>\n",
       "    </tr>\n",
       "    <tr>\n",
       "      <th>4</th>\n",
       "      <td>1994-12-31</td>\n",
       "      <td>3.7314</td>\n",
       "    </tr>\n",
       "  </tbody>\n",
       "</table>\n",
       "</div>"
      ],
      "text/plain": [
       "        Year   Metric Tons Per Capita\n",
       "0 1990-12-31                   3.8963\n",
       "1 1991-12-31                   3.8581\n",
       "2 1992-12-31                   3.8018\n",
       "3 1993-12-31                   3.7679\n",
       "4 1994-12-31                   3.7314"
      ]
     },
     "execution_count": 6,
     "metadata": {},
     "output_type": "execute_result"
    }
   ],
   "source": [
    "fb_df = emission_df.reset_index()\n",
    "fb_df.head()"
   ]
  },
  {
   "cell_type": "code",
   "execution_count": 7,
   "id": "94e14f39",
   "metadata": {
    "id": "94e14f39",
    "outputId": "ed22fed5-6be0-48f8-d4b4-5d97801c668e"
   },
   "outputs": [
    {
     "data": {
      "text/html": [
       "<div>\n",
       "<style scoped>\n",
       "    .dataframe tbody tr th:only-of-type {\n",
       "        vertical-align: middle;\n",
       "    }\n",
       "\n",
       "    .dataframe tbody tr th {\n",
       "        vertical-align: top;\n",
       "    }\n",
       "\n",
       "    .dataframe thead th {\n",
       "        text-align: right;\n",
       "    }\n",
       "</style>\n",
       "<table border=\"1\" class=\"dataframe\">\n",
       "  <thead>\n",
       "    <tr style=\"text-align: right;\">\n",
       "      <th></th>\n",
       "      <th>ds</th>\n",
       "      <th>y</th>\n",
       "    </tr>\n",
       "  </thead>\n",
       "  <tbody>\n",
       "    <tr>\n",
       "      <th>0</th>\n",
       "      <td>1990-12-31</td>\n",
       "      <td>3.8963</td>\n",
       "    </tr>\n",
       "    <tr>\n",
       "      <th>1</th>\n",
       "      <td>1991-12-31</td>\n",
       "      <td>3.8581</td>\n",
       "    </tr>\n",
       "    <tr>\n",
       "      <th>2</th>\n",
       "      <td>1992-12-31</td>\n",
       "      <td>3.8018</td>\n",
       "    </tr>\n",
       "    <tr>\n",
       "      <th>3</th>\n",
       "      <td>1993-12-31</td>\n",
       "      <td>3.7679</td>\n",
       "    </tr>\n",
       "    <tr>\n",
       "      <th>4</th>\n",
       "      <td>1994-12-31</td>\n",
       "      <td>3.7314</td>\n",
       "    </tr>\n",
       "  </tbody>\n",
       "</table>\n",
       "</div>"
      ],
      "text/plain": [
       "          ds       y\n",
       "0 1990-12-31  3.8963\n",
       "1 1991-12-31  3.8581\n",
       "2 1992-12-31  3.8018\n",
       "3 1993-12-31  3.7679\n",
       "4 1994-12-31  3.7314"
      ]
     },
     "execution_count": 7,
     "metadata": {},
     "output_type": "execute_result"
    }
   ],
   "source": [
    "fb_df= fb_df.rename(columns={'Year':'ds', ' Metric Tons Per Capita':'y'})\n",
    "fb_df.head()"
   ]
  },
  {
   "cell_type": "code",
   "execution_count": null,
   "id": "88b331bd",
   "metadata": {
    "id": "88b331bd",
    "outputId": "9bd307c2-49c5-4c2e-b4e9-89690b2d642e"
   },
   "outputs": [
    {
     "data": {
      "image/png": "[encoded data removed]",
      "text/plain": [
       "<Figure size 640x480 with 1 Axes>"
      ]
     },
     "execution_count": 143,
     "metadata": {},
     "output_type": "execute_result"
    },
    {
     "data": {
      "image/png": "[encoded data removed]",
      "text/plain": [
       "<Figure size 640x480 with 1 Axes>"
      ]
     },
     "metadata": {},
     "output_type": "display_data"
    }
   ],
   "source": [
    "fb_df.set_index('ds').y.plot().get_figure()"
   ]
  },
  {
   "cell_type": "code",
   "execution_count": 8,
   "id": "d7ad4ea7",
   "metadata": {
    "id": "d7ad4ea7",
    "outputId": "74119b16-5d6f-4fcb-c783-40cd83c0670d"
   },
   "outputs": [
    {
     "name": "stderr",
     "output_type": "stream",
     "text": [
      "23:43:23 - cmdstanpy - INFO - Chain [1] start processing\n",
      "23:43:23 - cmdstanpy - INFO - Chain [1] done processing\n"
     ]
    },
    {
     "data": {
      "text/plain": [
       "True"
      ]
     },
     "execution_count": 8,
     "metadata": {},
     "output_type": "execute_result"
    }
   ],
   "source": [
    "model = Prophet(yearly_seasonality=True)\n",
    "model.fit(fb_df);\n",
    "model.yearly_seasonality"
   ]
  },
  {
   "cell_type": "code",
   "execution_count": 17,
   "id": "d6b1f17d",
   "metadata": {
    "id": "d6b1f17d",
    "outputId": "04e2a497-530b-4651-86d7-780fead6aaa3"
   },
   "outputs": [
    {
     "data": {
      "text/html": [
       "<div>\n",
       "<style scoped>\n",
       "    .dataframe tbody tr th:only-of-type {\n",
       "        vertical-align: middle;\n",
       "    }\n",
       "\n",
       "    .dataframe tbody tr th {\n",
       "        vertical-align: top;\n",
       "    }\n",
       "\n",
       "    .dataframe thead th {\n",
       "        text-align: right;\n",
       "    }\n",
       "</style>\n",
       "<table border=\"1\" class=\"dataframe\">\n",
       "  <thead>\n",
       "    <tr style=\"text-align: right;\">\n",
       "      <th></th>\n",
       "      <th>ds</th>\n",
       "    </tr>\n",
       "  </thead>\n",
       "  <tbody>\n",
       "    <tr>\n",
       "      <th>36</th>\n",
       "      <td>2026-12-31</td>\n",
       "    </tr>\n",
       "    <tr>\n",
       "      <th>37</th>\n",
       "      <td>2027-12-31</td>\n",
       "    </tr>\n",
       "    <tr>\n",
       "      <th>38</th>\n",
       "      <td>2028-12-31</td>\n",
       "    </tr>\n",
       "    <tr>\n",
       "      <th>39</th>\n",
       "      <td>2029-12-31</td>\n",
       "    </tr>\n",
       "    <tr>\n",
       "      <th>40</th>\n",
       "      <td>2030-12-31</td>\n",
       "    </tr>\n",
       "  </tbody>\n",
       "</table>\n",
       "</div>"
      ],
      "text/plain": [
       "           ds\n",
       "36 2026-12-31\n",
       "37 2027-12-31\n",
       "38 2028-12-31\n",
       "39 2029-12-31\n",
       "40 2030-12-31"
      ]
     },
     "execution_count": 17,
     "metadata": {},
     "output_type": "execute_result"
    }
   ],
   "source": [
    "future = model.make_future_dataframe(periods=11, freq = 'y')\n",
    "future.tail()"
   ]
  },
  {
   "cell_type": "code",
   "execution_count": 18,
   "id": "f2111f68",
   "metadata": {
    "id": "f2111f68",
    "outputId": "db9984b5-4991-4a91-d45a-0d78dbea992d"
   },
   "outputs": [
    {
     "data": {
      "text/html": [
       "<div>\n",
       "<style scoped>\n",
       "    .dataframe tbody tr th:only-of-type {\n",
       "        vertical-align: middle;\n",
       "    }\n",
       "\n",
       "    .dataframe tbody tr th {\n",
       "        vertical-align: top;\n",
       "    }\n",
       "\n",
       "    .dataframe thead th {\n",
       "        text-align: right;\n",
       "    }\n",
       "</style>\n",
       "<table border=\"1\" class=\"dataframe\">\n",
       "  <thead>\n",
       "    <tr style=\"text-align: right;\">\n",
       "      <th></th>\n",
       "      <th>ds</th>\n",
       "      <th>trend</th>\n",
       "      <th>yhat_lower</th>\n",
       "      <th>yhat_upper</th>\n",
       "      <th>trend_lower</th>\n",
       "      <th>trend_upper</th>\n",
       "      <th>additive_terms</th>\n",
       "      <th>additive_terms_lower</th>\n",
       "      <th>additive_terms_upper</th>\n",
       "      <th>yearly</th>\n",
       "      <th>yearly_lower</th>\n",
       "      <th>yearly_upper</th>\n",
       "      <th>multiplicative_terms</th>\n",
       "      <th>multiplicative_terms_lower</th>\n",
       "      <th>multiplicative_terms_upper</th>\n",
       "      <th>yhat</th>\n",
       "    </tr>\n",
       "  </thead>\n",
       "  <tbody>\n",
       "    <tr>\n",
       "      <th>36</th>\n",
       "      <td>2026-12-31</td>\n",
       "      <td>1.066191</td>\n",
       "      <td>4.208824</td>\n",
       "      <td>4.459792</td>\n",
       "      <td>0.951083</td>\n",
       "      <td>1.168341</td>\n",
       "      <td>3.270659</td>\n",
       "      <td>3.270659</td>\n",
       "      <td>3.270659</td>\n",
       "      <td>3.270659</td>\n",
       "      <td>3.270659</td>\n",
       "      <td>3.270659</td>\n",
       "      <td>0.0</td>\n",
       "      <td>0.0</td>\n",
       "      <td>0.0</td>\n",
       "      <td>4.336850</td>\n",
       "    </tr>\n",
       "    <tr>\n",
       "      <th>37</th>\n",
       "      <td>2027-12-31</td>\n",
       "      <td>1.052411</td>\n",
       "      <td>4.184547</td>\n",
       "      <td>4.480940</td>\n",
       "      <td>0.911669</td>\n",
       "      <td>1.177415</td>\n",
       "      <td>3.283182</td>\n",
       "      <td>3.283182</td>\n",
       "      <td>3.283182</td>\n",
       "      <td>3.283182</td>\n",
       "      <td>3.283182</td>\n",
       "      <td>3.283182</td>\n",
       "      <td>0.0</td>\n",
       "      <td>0.0</td>\n",
       "      <td>0.0</td>\n",
       "      <td>4.335593</td>\n",
       "    </tr>\n",
       "    <tr>\n",
       "      <th>38</th>\n",
       "      <td>2028-12-31</td>\n",
       "      <td>1.038594</td>\n",
       "      <td>4.126442</td>\n",
       "      <td>4.462626</td>\n",
       "      <td>0.868611</td>\n",
       "      <td>1.188620</td>\n",
       "      <td>3.267235</td>\n",
       "      <td>3.267235</td>\n",
       "      <td>3.267235</td>\n",
       "      <td>3.267235</td>\n",
       "      <td>3.267235</td>\n",
       "      <td>3.267235</td>\n",
       "      <td>0.0</td>\n",
       "      <td>0.0</td>\n",
       "      <td>0.0</td>\n",
       "      <td>4.305829</td>\n",
       "    </tr>\n",
       "    <tr>\n",
       "      <th>39</th>\n",
       "      <td>2029-12-31</td>\n",
       "      <td>1.024814</td>\n",
       "      <td>4.077169</td>\n",
       "      <td>4.479514</td>\n",
       "      <td>0.824304</td>\n",
       "      <td>1.202262</td>\n",
       "      <td>3.265332</td>\n",
       "      <td>3.265332</td>\n",
       "      <td>3.265332</td>\n",
       "      <td>3.265332</td>\n",
       "      <td>3.265332</td>\n",
       "      <td>3.265332</td>\n",
       "      <td>0.0</td>\n",
       "      <td>0.0</td>\n",
       "      <td>0.0</td>\n",
       "      <td>4.290145</td>\n",
       "    </tr>\n",
       "    <tr>\n",
       "      <th>40</th>\n",
       "      <td>2030-12-31</td>\n",
       "      <td>1.011034</td>\n",
       "      <td>4.038280</td>\n",
       "      <td>4.492337</td>\n",
       "      <td>0.779903</td>\n",
       "      <td>1.216445</td>\n",
       "      <td>3.270659</td>\n",
       "      <td>3.270659</td>\n",
       "      <td>3.270659</td>\n",
       "      <td>3.270659</td>\n",
       "      <td>3.270659</td>\n",
       "      <td>3.270659</td>\n",
       "      <td>0.0</td>\n",
       "      <td>0.0</td>\n",
       "      <td>0.0</td>\n",
       "      <td>4.281693</td>\n",
       "    </tr>\n",
       "  </tbody>\n",
       "</table>\n",
       "</div>"
      ],
      "text/plain": [
       "           ds     trend  yhat_lower  yhat_upper  trend_lower  trend_upper  \\\n",
       "36 2026-12-31  1.066191    4.208824    4.459792     0.951083     1.168341   \n",
       "37 2027-12-31  1.052411    4.184547    4.480940     0.911669     1.177415   \n",
       "38 2028-12-31  1.038594    4.126442    4.462626     0.868611     1.188620   \n",
       "39 2029-12-31  1.024814    4.077169    4.479514     0.824304     1.202262   \n",
       "40 2030-12-31  1.011034    4.038280    4.492337     0.779903     1.216445   \n",
       "\n",
       "    additive_terms  additive_terms_lower  additive_terms_upper    yearly  \\\n",
       "36        3.270659              3.270659              3.270659  3.270659   \n",
       "37        3.283182              3.283182              3.283182  3.283182   \n",
       "38        3.267235              3.267235              3.267235  3.267235   \n",
       "39        3.265332              3.265332              3.265332  3.265332   \n",
       "40        3.270659              3.270659              3.270659  3.270659   \n",
       "\n",
       "    yearly_lower  yearly_upper  multiplicative_terms  \\\n",
       "36      3.270659      3.270659                   0.0   \n",
       "37      3.283182      3.283182                   0.0   \n",
       "38      3.267235      3.267235                   0.0   \n",
       "39      3.265332      3.265332                   0.0   \n",
       "40      3.270659      3.270659                   0.0   \n",
       "\n",
       "    multiplicative_terms_lower  multiplicative_terms_upper      yhat  \n",
       "36                         0.0                         0.0  4.336850  \n",
       "37                         0.0                         0.0  4.335593  \n",
       "38                         0.0                         0.0  4.305829  \n",
       "39                         0.0                         0.0  4.290145  \n",
       "40                         0.0                         0.0  4.281693  "
      ]
     },
     "execution_count": 18,
     "metadata": {},
     "output_type": "execute_result"
    }
   ],
   "source": [
    "forecast = model.predict(future)\n",
    "forecast.tail()"
   ]
  },
  {
   "cell_type": "markdown",
   "id": "V_hdAG2_b44R",
   "metadata": {
    "id": "V_hdAG2_b44R"
   },
   "source": [
    "# FB Prophet Forecasting"
   ]
  },
  {
   "cell_type": "code",
   "execution_count": 19,
   "id": "a3a8372b",
   "metadata": {
    "id": "a3a8372b",
    "outputId": "3b4b85ec-8592-486b-ad7e-2fb6c841cd76"
   },
   "outputs": [
    {
     "data": {
      "text/html": [
       "<div>\n",
       "<style scoped>\n",
       "    .dataframe tbody tr th:only-of-type {\n",
       "        vertical-align: middle;\n",
       "    }\n",
       "\n",
       "    .dataframe tbody tr th {\n",
       "        vertical-align: top;\n",
       "    }\n",
       "\n",
       "    .dataframe thead th {\n",
       "        text-align: right;\n",
       "    }\n",
       "</style>\n",
       "<table border=\"1\" class=\"dataframe\">\n",
       "  <thead>\n",
       "    <tr style=\"text-align: right;\">\n",
       "      <th></th>\n",
       "      <th>ds</th>\n",
       "      <th>yhat</th>\n",
       "      <th>yhat_lower</th>\n",
       "      <th>yhat_upper</th>\n",
       "    </tr>\n",
       "  </thead>\n",
       "  <tbody>\n",
       "    <tr>\n",
       "      <th>31</th>\n",
       "      <td>2021-12-31</td>\n",
       "      <td>4.400460</td>\n",
       "      <td>4.334134</td>\n",
       "      <td>4.467672</td>\n",
       "    </tr>\n",
       "    <tr>\n",
       "      <th>32</th>\n",
       "      <td>2022-12-31</td>\n",
       "      <td>4.392008</td>\n",
       "      <td>4.313135</td>\n",
       "      <td>4.459728</td>\n",
       "    </tr>\n",
       "    <tr>\n",
       "      <th>33</th>\n",
       "      <td>2023-12-31</td>\n",
       "      <td>4.390751</td>\n",
       "      <td>4.307658</td>\n",
       "      <td>4.471859</td>\n",
       "    </tr>\n",
       "    <tr>\n",
       "      <th>34</th>\n",
       "      <td>2024-12-31</td>\n",
       "      <td>4.360986</td>\n",
       "      <td>4.262089</td>\n",
       "      <td>4.448518</td>\n",
       "    </tr>\n",
       "    <tr>\n",
       "      <th>35</th>\n",
       "      <td>2025-12-31</td>\n",
       "      <td>4.345303</td>\n",
       "      <td>4.230756</td>\n",
       "      <td>4.451474</td>\n",
       "    </tr>\n",
       "    <tr>\n",
       "      <th>36</th>\n",
       "      <td>2026-12-31</td>\n",
       "      <td>4.336850</td>\n",
       "      <td>4.208824</td>\n",
       "      <td>4.459792</td>\n",
       "    </tr>\n",
       "    <tr>\n",
       "      <th>37</th>\n",
       "      <td>2027-12-31</td>\n",
       "      <td>4.335593</td>\n",
       "      <td>4.184547</td>\n",
       "      <td>4.480940</td>\n",
       "    </tr>\n",
       "    <tr>\n",
       "      <th>38</th>\n",
       "      <td>2028-12-31</td>\n",
       "      <td>4.305829</td>\n",
       "      <td>4.126442</td>\n",
       "      <td>4.462626</td>\n",
       "    </tr>\n",
       "    <tr>\n",
       "      <th>39</th>\n",
       "      <td>2029-12-31</td>\n",
       "      <td>4.290145</td>\n",
       "      <td>4.077169</td>\n",
       "      <td>4.479514</td>\n",
       "    </tr>\n",
       "    <tr>\n",
       "      <th>40</th>\n",
       "      <td>2030-12-31</td>\n",
       "      <td>4.281693</td>\n",
       "      <td>4.038280</td>\n",
       "      <td>4.492337</td>\n",
       "    </tr>\n",
       "  </tbody>\n",
       "</table>\n",
       "</div>"
      ],
      "text/plain": [
       "           ds      yhat  yhat_lower  yhat_upper\n",
       "31 2021-12-31  4.400460    4.334134    4.467672\n",
       "32 2022-12-31  4.392008    4.313135    4.459728\n",
       "33 2023-12-31  4.390751    4.307658    4.471859\n",
       "34 2024-12-31  4.360986    4.262089    4.448518\n",
       "35 2025-12-31  4.345303    4.230756    4.451474\n",
       "36 2026-12-31  4.336850    4.208824    4.459792\n",
       "37 2027-12-31  4.335593    4.184547    4.480940\n",
       "38 2028-12-31  4.305829    4.126442    4.462626\n",
       "39 2029-12-31  4.290145    4.077169    4.479514\n",
       "40 2030-12-31  4.281693    4.038280    4.492337"
      ]
     },
     "execution_count": 19,
     "metadata": {},
     "output_type": "execute_result"
    }
   ],
   "source": [
    "forecast[['ds', 'yhat', 'yhat_lower', 'yhat_upper']].tail(10)"
   ]
  },
  {
   "cell_type": "code",
   "execution_count": 20,
   "id": "c309a9c6",
   "metadata": {
    "id": "c309a9c6",
    "outputId": "d084567e-04d2-49bf-84a6-0bb43825b110"
   },
   "outputs": [
    {
     "data": {
      "image/png": "[encoded data removed]",
      "text/plain": [
       "<Figure size 1000x600 with 1 Axes>"
      ]
     },
     "metadata": {},
     "output_type": "display_data"
    }
   ],
   "source": [
    "model.plot(forecast);"
   ]
  },
  {
   "cell_type": "code",
   "execution_count": null,
   "id": "d7704d37",
   "metadata": {
    "id": "d7704d37",
    "outputId": "9b5cebf9-a4fe-4b2c-ab9e-57f74c9476d6"
   },
   "outputs": [
    {
     "data": {
      "image/png": "[encoded data removed]",
      "text/plain": [
       "<Figure size 900x600 with 2 Axes>"
      ]
     },
     "metadata": {},
     "output_type": "display_data"
    }
   ],
   "source": [
    "model.plot_components(forecast);"
   ]
  },
  {
   "cell_type": "code",
   "execution_count": 13,
   "id": "1efc7048",
   "metadata": {
    "id": "1efc7048"
   },
   "outputs": [],
   "source": [
    "metric_df = forecast.set_index('ds')[['yhat']].join(fb_df.set_index('ds').y).reset_index()"
   ]
  },
  {
   "cell_type": "code",
   "execution_count": 14,
   "id": "5d0729ea",
   "metadata": {
    "id": "5d0729ea",
    "outputId": "edbb2c90-0d2d-4dc1-8ebd-4b564117d905"
   },
   "outputs": [
    {
     "data": {
      "text/html": [
       "<div>\n",
       "<style scoped>\n",
       "    .dataframe tbody tr th:only-of-type {\n",
       "        vertical-align: middle;\n",
       "    }\n",
       "\n",
       "    .dataframe tbody tr th {\n",
       "        vertical-align: top;\n",
       "    }\n",
       "\n",
       "    .dataframe thead th {\n",
       "        text-align: right;\n",
       "    }\n",
       "</style>\n",
       "<table border=\"1\" class=\"dataframe\">\n",
       "  <thead>\n",
       "    <tr style=\"text-align: right;\">\n",
       "      <th></th>\n",
       "      <th>ds</th>\n",
       "      <th>yhat</th>\n",
       "      <th>y</th>\n",
       "    </tr>\n",
       "  </thead>\n",
       "  <tbody>\n",
       "    <tr>\n",
       "      <th>35</th>\n",
       "      <td>2025-12-31</td>\n",
       "      <td>4.345303</td>\n",
       "      <td>NaN</td>\n",
       "    </tr>\n",
       "    <tr>\n",
       "      <th>36</th>\n",
       "      <td>2026-12-31</td>\n",
       "      <td>4.336850</td>\n",
       "      <td>NaN</td>\n",
       "    </tr>\n",
       "    <tr>\n",
       "      <th>37</th>\n",
       "      <td>2027-12-31</td>\n",
       "      <td>4.335593</td>\n",
       "      <td>NaN</td>\n",
       "    </tr>\n",
       "    <tr>\n",
       "      <th>38</th>\n",
       "      <td>2028-12-31</td>\n",
       "      <td>4.305829</td>\n",
       "      <td>NaN</td>\n",
       "    </tr>\n",
       "    <tr>\n",
       "      <th>39</th>\n",
       "      <td>2029-12-31</td>\n",
       "      <td>4.290145</td>\n",
       "      <td>NaN</td>\n",
       "    </tr>\n",
       "  </tbody>\n",
       "</table>\n",
       "</div>"
      ],
      "text/plain": [
       "           ds      yhat   y\n",
       "35 2025-12-31  4.345303 NaN\n",
       "36 2026-12-31  4.336850 NaN\n",
       "37 2027-12-31  4.335593 NaN\n",
       "38 2028-12-31  4.305829 NaN\n",
       "39 2029-12-31  4.290145 NaN"
      ]
     },
     "execution_count": 14,
     "metadata": {},
     "output_type": "execute_result"
    }
   ],
   "source": [
    "metric_df.tail()"
   ]
  },
  {
   "cell_type": "code",
   "execution_count": 15,
   "id": "4a2b2a56",
   "metadata": {
    "id": "4a2b2a56"
   },
   "outputs": [],
   "source": [
    "metric_df.dropna(inplace=True)"
   ]
  },
  {
   "cell_type": "code",
   "execution_count": 16,
   "id": "415273cd",
   "metadata": {
    "id": "415273cd",
    "outputId": "095c2a38-7f94-40a6-e12a-aaec82429cd7"
   },
   "outputs": [
    {
     "data": {
      "text/html": [
       "<div>\n",
       "<style scoped>\n",
       "    .dataframe tbody tr th:only-of-type {\n",
       "        vertical-align: middle;\n",
       "    }\n",
       "\n",
       "    .dataframe tbody tr th {\n",
       "        vertical-align: top;\n",
       "    }\n",
       "\n",
       "    .dataframe thead th {\n",
       "        text-align: right;\n",
       "    }\n",
       "</style>\n",
       "<table border=\"1\" class=\"dataframe\">\n",
       "  <thead>\n",
       "    <tr style=\"text-align: right;\">\n",
       "      <th></th>\n",
       "      <th>ds</th>\n",
       "      <th>yhat</th>\n",
       "      <th>y</th>\n",
       "    </tr>\n",
       "  </thead>\n",
       "  <tbody>\n",
       "    <tr>\n",
       "      <th>25</th>\n",
       "      <td>2015-12-31</td>\n",
       "      <td>4.501066</td>\n",
       "      <td>4.4559</td>\n",
       "    </tr>\n",
       "    <tr>\n",
       "      <th>26</th>\n",
       "      <td>2016-12-31</td>\n",
       "      <td>4.471302</td>\n",
       "      <td>4.4072</td>\n",
       "    </tr>\n",
       "    <tr>\n",
       "      <th>27</th>\n",
       "      <td>2017-12-31</td>\n",
       "      <td>4.455618</td>\n",
       "      <td>4.4225</td>\n",
       "    </tr>\n",
       "    <tr>\n",
       "      <th>28</th>\n",
       "      <td>2018-12-31</td>\n",
       "      <td>4.447165</td>\n",
       "      <td>4.4754</td>\n",
       "    </tr>\n",
       "    <tr>\n",
       "      <th>29</th>\n",
       "      <td>2019-12-31</td>\n",
       "      <td>4.445908</td>\n",
       "      <td>4.4357</td>\n",
       "    </tr>\n",
       "  </tbody>\n",
       "</table>\n",
       "</div>"
      ],
      "text/plain": [
       "           ds      yhat       y\n",
       "25 2015-12-31  4.501066  4.4559\n",
       "26 2016-12-31  4.471302  4.4072\n",
       "27 2017-12-31  4.455618  4.4225\n",
       "28 2018-12-31  4.447165  4.4754\n",
       "29 2019-12-31  4.445908  4.4357"
      ]
     },
     "execution_count": 16,
     "metadata": {},
     "output_type": "execute_result"
    }
   ],
   "source": [
    "metric_df.tail()"
   ]
  },
  {
   "cell_type": "code",
   "execution_count": null,
   "id": "751c7659",
   "metadata": {
    "id": "751c7659",
    "outputId": "7f77af1b-4e45-4411-aec1-79b4481e79e5"
   },
   "outputs": [
    {
     "name": "stdout",
     "output_type": "stream",
     "text": [
      "MSE: 0.0025\n",
      "RMSE: 0.0503\n",
      "MAE: 0.0417\n",
      "MAPE: 1.0085%\n",
      "R-squared (R2) Score: 0.9736\n"
     ]
    }
   ],
   "source": [
    "from sklearn.metrics import mean_squared_error, mean_absolute_error, r2_score\n",
    "\n",
    "# Calculate MSE\n",
    "mse_fb = mean_squared_error(metric_df.y, metric_df.yhat)\n",
    "\n",
    "# Calculate RMSE\n",
    "rmse_fb = np.sqrt(mean_squared_error(metric_df.y, metric_df.yhat))\n",
    "\n",
    "# Calculate MAE\n",
    "mae_fb = mean_absolute_error(metric_df.y, metric_df.yhat)\n",
    "\n",
    "# Calculate MAPE\n",
    "def calculate_mape(y_true, y_pred):\n",
    "    return np.mean(np.abs((y_true - y_pred) / y_true)) * 100\n",
    "\n",
    "mape_fb = calculate_mape(metric_df.y, metric_df.yhat)\n",
    "\n",
    "# Calculate R2 score\n",
    "r2_fb = r2_score(metric_df.y, metric_df.yhat)\n",
    "\n",
    "# Print the metrics\n",
    "print(f\"MSE: {mse_fb:.4f}\")\n",
    "print(f\"RMSE: {rmse_fb:.4f}\")\n",
    "print(f\"MAE: {mae_fb:.4f}\")\n",
    "print(f\"MAPE: {mape_fb:.4f}%\")\n",
    "print(f\"R-squared (R2) Score: {r2_fb:.4f}\")"
   ]
  },
  {
   "cell_type": "markdown",
   "id": "MI626eMVb_W7",
   "metadata": {
    "id": "MI626eMVb_W7"
   },
   "source": [
    "# Comparing all 3 models"
   ]
  },
  {
   "cell_type": "code",
   "execution_count": null,
   "id": "b53df686",
   "metadata": {
    "id": "b53df686",
    "outputId": "fe10bca7-8eb3-472f-88f3-d691d8e6b9c8"
   },
   "outputs": [
    {
     "data": {
      "image/png": "[encoded data removed]",
      "text/plain": [
       "<Figure size 1000x600 with 4 Axes>"
      ]
     },
     "metadata": {},
     "output_type": "display_data"
    }
   ],
   "source": [
    "mse_values = [mse_lstm, mse_xg, mse_fb]\n",
    "rmse_values = [rmse_lstm, rmse_xg, rmse_fb]\n",
    "mape_values = [mape_lstm, mape_xg, mape_fb]\n",
    "r2_values = [r2_lstm, r2_xg, r2_fb]\n",
    "models = ['LSTM', 'XGBoost', 'FBProphet']\n",
    "\n",
    "# Plot the metrics for each model\n",
    "plt.figure(figsize=(10, 6))\n",
    "\n",
    "# MSE plot\n",
    "plt.subplot(2, 2, 1)\n",
    "plt.bar(models, mse_values)\n",
    "plt.title('Mean Squared Error (MSE)')\n",
    "\n",
    "# RMSE plot\n",
    "plt.subplot(2, 2, 2)\n",
    "plt.bar(models, rmse_values, color='orange')\n",
    "plt.title('Root Mean Squared Error (RMSE)')\n",
    "\n",
    "# MAPE plot\n",
    "plt.subplot(2, 2, 3)\n",
    "plt.bar(models, mape_values, color='green')\n",
    "plt.title('Mean Absolute Percentage Error (MAPE)')\n",
    "\n",
    "# R2 plot\n",
    "plt.subplot(2, 2, 4)\n",
    "plt.bar(models, r2_values, color='purple')\n",
    "plt.title('R-squared (R2) Score')\n",
    "\n",
    "plt.tight_layout()\n",
    "plt.show()\n"
   ]
  },
  {
   "cell_type": "code",
   "execution_count": null,
   "id": "63cb5ca4",
   "metadata": {
    "id": "63cb5ca4",
    "outputId": "d5e31c05-4d4f-481a-ac72-521eda4b7431"
   },
   "outputs": [
    {
     "data": {
      "text/html": [
       "<div>\n",
       "<style scoped>\n",
       "    .dataframe tbody tr th:only-of-type {\n",
       "        vertical-align: middle;\n",
       "    }\n",
       "\n",
       "    .dataframe tbody tr th {\n",
       "        vertical-align: top;\n",
       "    }\n",
       "\n",
       "    .dataframe thead th {\n",
       "        text-align: right;\n",
       "    }\n",
       "</style>\n",
       "<table border=\"1\" class=\"dataframe\">\n",
       "  <thead>\n",
       "    <tr style=\"text-align: right;\">\n",
       "      <th></th>\n",
       "      <th>MSE</th>\n",
       "      <th>RMSE</th>\n",
       "      <th>MAPE</th>\n",
       "      <th>R2</th>\n",
       "    </tr>\n",
       "  </thead>\n",
       "  <tbody>\n",
       "    <tr>\n",
       "      <th>LSTM</th>\n",
       "      <td>0.004613</td>\n",
       "      <td>0.067919</td>\n",
       "      <td>1.434688</td>\n",
       "      <td>0.952328</td>\n",
       "    </tr>\n",
       "    <tr>\n",
       "      <th>XGBoost</th>\n",
       "      <td>0.008491</td>\n",
       "      <td>0.241289</td>\n",
       "      <td>0.017506</td>\n",
       "      <td>-0.124471</td>\n",
       "    </tr>\n",
       "    <tr>\n",
       "      <th>FBProphet</th>\n",
       "      <td>0.002527</td>\n",
       "      <td>0.050272</td>\n",
       "      <td>1.008453</td>\n",
       "      <td>0.973585</td>\n",
       "    </tr>\n",
       "  </tbody>\n",
       "</table>\n",
       "</div>"
      ],
      "text/plain": [
       "                MSE      RMSE      MAPE        R2\n",
       "LSTM       0.004613  0.067919  1.434688  0.952328\n",
       "XGBoost    0.008491  0.241289  0.017506 -0.124471\n",
       "FBProphet  0.002527  0.050272  1.008453  0.973585"
      ]
     },
     "execution_count": 159,
     "metadata": {},
     "output_type": "execute_result"
    }
   ],
   "source": [
    "import pandas as pd\n",
    "\n",
    "# Define the metric values for each model\n",
    "models = ['LSTM', 'XGBoost', 'FBProphet']\n",
    "metrics = ['MSE', 'RMSE', 'MAPE', 'R2']\n",
    "values = [\n",
    "    [mse_lstm, rmse_lstm, mape_lstm, r2_lstm],\n",
    "    [mse_xg, rmse_xg, mape_xg, r2_xg],\n",
    "    [mse_fb, rmse_fb, mape_fb, r2_fb]\n",
    "]\n",
    "\n",
    "# Create a DataFrame to store the metric values\n",
    "metric_table = pd.DataFrame(values, columns=metrics, index=models)\n",
    "\n",
    "metric_table\n"
   ]
  },
  {
   "cell_type": "markdown",
   "id": "f073c5b8",
   "metadata": {
    "id": "f073c5b8"
   },
   "source": []
  }
 ],
 "metadata": {
  "colab": {
   "provenance": []
  },
  "kernelspec": {
   "display_name": "Python 3 (ipykernel)",
   "language": "python",
   "name": "python3"
  },
  "language_info": {
   "codemirror_mode": {
    "name": "ipython",
    "version": 3
   },
   "file_extension": ".py",
   "mimetype": "text/x-python",
   "name": "python",
   "nbconvert_exporter": "python",
   "pygments_lexer": "ipython3",
   "version": "3.10.10"
  }
 },
 "nbformat": 4,
 "nbformat_minor": 5
}
